{
  "nbformat": 4,
  "nbformat_minor": 0,
  "metadata": {
    "colab": {
      "name": "SOM_Code_1.ipynb",
      "provenance": [],
      "private_outputs": true,
      "toc_visible": true
    },
    "kernelspec": {
      "name": "python3",
      "display_name": "Python 3"
    },
    "accelerator": "GPU"
  },
  "cells": [
    {
      "cell_type": "code",
      "metadata": {
        "id": "d_MvLR27I38U",
        "colab_type": "code",
        "colab": {}
      },
      "source": [
        "#importing the Libraries\n",
        "import numpy as np\n",
        "import pandas as pd\n",
        "import matplotlib.pyplot as plt"
      ],
      "execution_count": 0,
      "outputs": []
    },
    {
      "cell_type": "code",
      "metadata": {
        "id": "6InjGjUhJZan",
        "colab_type": "code",
        "colab": {}
      },
      "source": [
        "#importing the dataset\n",
        "dataset=pd.read_csv('/content/Credit_Card_Applications.csv')\n",
        "X=dataset.iloc[:,:-1].values\n",
        "y=dataset.iloc[:,-1].values"
      ],
      "execution_count": 0,
      "outputs": []
    },
    {
      "cell_type": "code",
      "metadata": {
        "id": "URZAnv5hJyVI",
        "colab_type": "code",
        "colab": {}
      },
      "source": [
        "#Feature Scaling\n",
        "from sklearn.preprocessing import MinMaxScaler\n",
        "sc=MinMaxScaler(feature_range=(0,1))\n",
        "X=sc.fit_transform(X)"
      ],
      "execution_count": 0,
      "outputs": []
    },
    {
      "cell_type": "code",
      "metadata": {
        "id": "NvhMaKXBJ_M7",
        "colab_type": "code",
        "colab": {}
      },
      "source": [
        "#Training the SOM\n",
        "#minisom.py already have the SOM developed and various functions are written in it.\n",
        "#x=10 , y=10 signify the x ang y axis of grid i.e grid is 10 x 10\n",
        "#input_len is  count of no of attributes in dataset \n",
        "#sigma is the radius of the Best Matching Unit(BMU neuron)\n",
        "#random_weights_init function initialize the weights of SOM \n",
        "from minisom import MiniSom\n",
        "som=MiniSom(x=10,y=10,input_len=15,sigma=1.0,learning_rate=0.5)\n",
        "som.random_weights_init(X)\n",
        "som.train_random(data=X,num_iteration=100)\n"
      ],
      "execution_count": 0,
      "outputs": []
    },
    {
      "cell_type": "code",
      "metadata": {
        "id": "-p20uZC6KD0m",
        "colab_type": "code",
        "colab": {}
      },
      "source": [
        "#Visualizing the results\n",
        "#bone is the platform to show graph\n",
        "#som.distance_map creates MID(Mean Interneuron Distance) and Transform is done to use it with pcolor\n",
        "#colorbar is used to add legend\n",
        "#markers o represent circle and s represent square\n",
        "from pylab import bone,pcolor,colorbar,plot,show\n",
        "bone()\n",
        "pcolor(som.distance_map().T)\n",
        "colorbar()\n",
        "markers=['o','s']\n",
        "colors=['r','g']\n",
        "for i,x in enumerate(X):\n",
        "  w=som.winner(x)\n",
        "  plot(w[0]+0.5,w[1]+0.5,\n",
        "       markers[y[i]],\n",
        "       markeredgecolor=colors[y[i]],\n",
        "       markerfacecolor='None',\n",
        "       markersize=10,\n",
        "       markeredgewidth=2)\n",
        "show()"
      ],
      "execution_count": 0,
      "outputs": []
    },
    {
      "cell_type": "code",
      "metadata": {
        "id": "DsJR_CMaNVlW",
        "colab_type": "code",
        "colab": {}
      },
      "source": [
        "#finding the frauds\n",
        "mappings = som.win_map(X)\n",
        "frauds = np.concatenate((mappings[(6,6)], mappings[(7,6)]),axis=0)\n",
        "frauds = sc.inverse_transform(frauds)"
      ],
      "execution_count": 0,
      "outputs": []
    }
  ]
}
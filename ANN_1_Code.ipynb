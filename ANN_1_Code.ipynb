{
  "nbformat": 4,
  "nbformat_minor": 0,
  "metadata": {
    "colab": {
      "name": "ANN_1_Code.ipynb",
      "provenance": []
    },
    "kernelspec": {
      "name": "python3",
      "display_name": "Python 3"
    },
    "accelerator": "GPU"
  },
  "cells": [
    {
      "cell_type": "code",
      "metadata": {
        "id": "qCqA3ZSIJn-K",
        "colab_type": "code",
        "colab": {}
      },
      "source": [
        "import numpy as np\n",
        "import pandas as pd\n",
        "import matplotlib.pyplot as plt"
      ],
      "execution_count": 0,
      "outputs": []
    },
    {
      "cell_type": "code",
      "metadata": {
        "id": "tYwFJPHDJxGn",
        "colab_type": "code",
        "colab": {}
      },
      "source": [
        "dataset=pd.read_csv('/content/Churn_Modelling.csv')"
      ],
      "execution_count": 0,
      "outputs": []
    },
    {
      "cell_type": "code",
      "metadata": {
        "id": "ze8r2NfiJ7-X",
        "colab_type": "code",
        "colab": {}
      },
      "source": [
        "X=dataset.iloc[:,3:13].values"
      ],
      "execution_count": 0,
      "outputs": []
    },
    {
      "cell_type": "code",
      "metadata": {
        "id": "ywsQXlqgKRds",
        "colab_type": "code",
        "colab": {
          "base_uri": "https://localhost:8080/",
          "height": 136
        },
        "outputId": "66a3b1c0-f4c5-4d6e-85a1-a76987744c01"
      },
      "source": [
        "X\n"
      ],
      "execution_count": 4,
      "outputs": [
        {
          "output_type": "execute_result",
          "data": {
            "text/plain": [
              "array([[619, 'France', 'Female', ..., 1, 1, 101348.88],\n",
              "       [608, 'Spain', 'Female', ..., 0, 1, 112542.58],\n",
              "       [502, 'France', 'Female', ..., 1, 0, 113931.57],\n",
              "       ...,\n",
              "       [709, 'France', 'Female', ..., 0, 1, 42085.58],\n",
              "       [772, 'Germany', 'Male', ..., 1, 0, 92888.52],\n",
              "       [792, 'France', 'Female', ..., 1, 0, 38190.78]], dtype=object)"
            ]
          },
          "metadata": {
            "tags": []
          },
          "execution_count": 4
        }
      ]
    },
    {
      "cell_type": "code",
      "metadata": {
        "id": "lAt8kkpsKSrz",
        "colab_type": "code",
        "colab": {}
      },
      "source": [
        "Y=dataset.iloc[:,13].values"
      ],
      "execution_count": 0,
      "outputs": []
    },
    {
      "cell_type": "code",
      "metadata": {
        "id": "iS7KXxi4MCzo",
        "colab_type": "code",
        "colab": {
          "base_uri": "https://localhost:8080/",
          "height": 34
        },
        "outputId": "8ba9d6de-8123-4e39-f046-22cf2a1267c9"
      },
      "source": [
        "Y"
      ],
      "execution_count": 6,
      "outputs": [
        {
          "output_type": "execute_result",
          "data": {
            "text/plain": [
              "array([1, 0, 1, ..., 1, 1, 0])"
            ]
          },
          "metadata": {
            "tags": []
          },
          "execution_count": 6
        }
      ]
    },
    {
      "cell_type": "code",
      "metadata": {
        "id": "6Xrh5KSMLMZA",
        "colab_type": "code",
        "colab": {}
      },
      "source": [
        "#Labelling is done to convert text into number\n",
        "from sklearn.preprocessing import LabelEncoder,OneHotEncoder\n",
        "labelencoder_X_1=LabelEncoder()\n",
        "X[:,1]=labelencoder_X_1.fit_transform(X[:,1])\n",
        "labelencoder_X_2=LabelEncoder()\n",
        "X[:,2]=labelencoder_X_2.fit_transform(X[:,2])"
      ],
      "execution_count": 0,
      "outputs": []
    },
    {
      "cell_type": "code",
      "metadata": {
        "id": "aiYOxkd6MFzC",
        "colab_type": "code",
        "colab": {
          "base_uri": "https://localhost:8080/",
          "height": 136
        },
        "outputId": "9cb0f071-f29a-4ebf-f550-77881f4cd158"
      },
      "source": [
        "X"
      ],
      "execution_count": 8,
      "outputs": [
        {
          "output_type": "execute_result",
          "data": {
            "text/plain": [
              "array([[619, 0, 0, ..., 1, 1, 101348.88],\n",
              "       [608, 2, 0, ..., 0, 1, 112542.58],\n",
              "       [502, 0, 0, ..., 1, 0, 113931.57],\n",
              "       ...,\n",
              "       [709, 0, 0, ..., 0, 1, 42085.58],\n",
              "       [772, 1, 1, ..., 1, 0, 92888.52],\n",
              "       [792, 0, 0, ..., 1, 0, 38190.78]], dtype=object)"
            ]
          },
          "metadata": {
            "tags": []
          },
          "execution_count": 8
        }
      ]
    },
    {
      "cell_type": "code",
      "metadata": {
        "id": "UTkecl8CMGrM",
        "colab_type": "code",
        "colab": {}
      },
      "source": [
        "from sklearn.compose import ColumnTransformer\n",
        "# Country column\n",
        "ct = ColumnTransformer([(\"Geography\", OneHotEncoder(), [1])], remainder = 'passthrough')\n",
        "X = ct.fit_transform(X)"
      ],
      "execution_count": 0,
      "outputs": []
    },
    {
      "cell_type": "code",
      "metadata": {
        "id": "IimiTwtANOFV",
        "colab_type": "code",
        "colab": {
          "base_uri": "https://localhost:8080/",
          "height": 34
        },
        "outputId": "6341423a-f154-4030-c827-67199ffae75a"
      },
      "source": [
        "X[:,1]\n"
      ],
      "execution_count": 10,
      "outputs": [
        {
          "output_type": "execute_result",
          "data": {
            "text/plain": [
              "array([0.0, 0.0, 0.0, ..., 0.0, 1.0, 0.0], dtype=object)"
            ]
          },
          "metadata": {
            "tags": []
          },
          "execution_count": 10
        }
      ]
    },
    {
      "cell_type": "code",
      "metadata": {
        "id": "S4oBmdNoNPIo",
        "colab_type": "code",
        "colab": {}
      },
      "source": [
        "X=X[:,1:]"
      ],
      "execution_count": 0,
      "outputs": []
    },
    {
      "cell_type": "code",
      "metadata": {
        "id": "HyKuUZnSNm2Y",
        "colab_type": "code",
        "colab": {
          "base_uri": "https://localhost:8080/",
          "height": 34
        },
        "outputId": "696a6d67-53f5-4e77-f57a-bdcbd8c15ff2"
      },
      "source": [
        "X.shape"
      ],
      "execution_count": 12,
      "outputs": [
        {
          "output_type": "execute_result",
          "data": {
            "text/plain": [
              "(10000, 11)"
            ]
          },
          "metadata": {
            "tags": []
          },
          "execution_count": 12
        }
      ]
    },
    {
      "cell_type": "code",
      "metadata": {
        "id": "w-mK4kAbNn5B",
        "colab_type": "code",
        "colab": {}
      },
      "source": [
        "#Splitting the Dataset\n",
        "from sklearn.model_selection import train_test_split\n",
        "X_train, X_test, Y_train, Y_test = train_test_split(X, Y, test_size = 0.2, random_state = 0)"
      ],
      "execution_count": 0,
      "outputs": []
    },
    {
      "cell_type": "code",
      "metadata": {
        "id": "uNjh07mpN9Mz",
        "colab_type": "code",
        "colab": {
          "base_uri": "https://localhost:8080/",
          "height": 136
        },
        "outputId": "1927819c-2ec2-4f94-d1b2-bc12b3af4b03"
      },
      "source": [
        "X_train"
      ],
      "execution_count": 14,
      "outputs": [
        {
          "output_type": "execute_result",
          "data": {
            "text/plain": [
              "array([[0.0, 1.0, 667, ..., 1, 0, 163830.64],\n",
              "       [1.0, 0.0, 427, ..., 1, 1, 57098.0],\n",
              "       [0.0, 0.0, 535, ..., 1, 0, 185630.76],\n",
              "       ...,\n",
              "       [0.0, 0.0, 738, ..., 1, 0, 181429.87],\n",
              "       [0.0, 1.0, 590, ..., 1, 1, 148750.16],\n",
              "       [1.0, 0.0, 623, ..., 1, 0, 118855.26]], dtype=object)"
            ]
          },
          "metadata": {
            "tags": []
          },
          "execution_count": 14
        }
      ]
    },
    {
      "cell_type": "code",
      "metadata": {
        "id": "epeCB_8iOCB_",
        "colab_type": "code",
        "colab": {}
      },
      "source": [
        "from sklearn.preprocessing import StandardScaler\n",
        "sc = StandardScaler()\n",
        "X_train = sc.fit_transform(X_train)\n",
        "X_test = sc.transform(X_test)"
      ],
      "execution_count": 0,
      "outputs": []
    },
    {
      "cell_type": "code",
      "metadata": {
        "id": "_VUghhwCOR2e",
        "colab_type": "code",
        "colab": {
          "base_uri": "https://localhost:8080/",
          "height": 80
        },
        "outputId": "4727f558-944b-4388-fa46-d4c0aa117717"
      },
      "source": [
        "#Importing the Keras Libraries and packages\n",
        "import keras\n",
        "from keras.models import Sequential\n",
        "from keras.layers import Dense"
      ],
      "execution_count": 16,
      "outputs": [
        {
          "output_type": "stream",
          "text": [
            "Using TensorFlow backend.\n"
          ],
          "name": "stderr"
        },
        {
          "output_type": "display_data",
          "data": {
            "text/html": [
              "<p style=\"color: red;\">\n",
              "The default version of TensorFlow in Colab will soon switch to TensorFlow 2.x.<br>\n",
              "We recommend you <a href=\"https://www.tensorflow.org/guide/migrate\" target=\"_blank\">upgrade</a> now \n",
              "or ensure your notebook will continue to use TensorFlow 1.x via the <code>%tensorflow_version 1.x</code> magic:\n",
              "<a href=\"https://colab.research.google.com/notebooks/tensorflow_version.ipynb\" target=\"_blank\">more info</a>.</p>\n"
            ],
            "text/plain": [
              "<IPython.core.display.HTML object>"
            ]
          },
          "metadata": {
            "tags": []
          }
        }
      ]
    },
    {
      "cell_type": "code",
      "metadata": {
        "id": "JrdvE6q6PEVU",
        "colab_type": "code",
        "colab": {
          "base_uri": "https://localhost:8080/",
          "height": 71
        },
        "outputId": "c056d103-4d90-45f1-bd59-5e10be7c3aaa"
      },
      "source": [
        "classifier=Sequential()"
      ],
      "execution_count": 17,
      "outputs": [
        {
          "output_type": "stream",
          "text": [
            "WARNING:tensorflow:From /usr/local/lib/python3.6/dist-packages/keras/backend/tensorflow_backend.py:66: The name tf.get_default_graph is deprecated. Please use tf.compat.v1.get_default_graph instead.\n",
            "\n"
          ],
          "name": "stdout"
        }
      ]
    },
    {
      "cell_type": "code",
      "metadata": {
        "id": "bYJUbNB0PR4i",
        "colab_type": "code",
        "colab": {
          "base_uri": "https://localhost:8080/",
          "height": 105
        },
        "outputId": "3d317563-247a-4731-a99d-bba83c6115bb"
      },
      "source": [
        "#Adding the Input Layer and the first Hidden Layer\n",
        "classifier.add(Dense(units=6,kernel_initializer='uniform',activation='relu',input_dim=11))"
      ],
      "execution_count": 18,
      "outputs": [
        {
          "output_type": "stream",
          "text": [
            "WARNING:tensorflow:From /usr/local/lib/python3.6/dist-packages/keras/backend/tensorflow_backend.py:541: The name tf.placeholder is deprecated. Please use tf.compat.v1.placeholder instead.\n",
            "\n",
            "WARNING:tensorflow:From /usr/local/lib/python3.6/dist-packages/keras/backend/tensorflow_backend.py:4432: The name tf.random_uniform is deprecated. Please use tf.random.uniform instead.\n",
            "\n"
          ],
          "name": "stdout"
        }
      ]
    },
    {
      "cell_type": "code",
      "metadata": {
        "id": "AOUHXUjsvmjo",
        "colab_type": "code",
        "colab": {}
      },
      "source": [
        "#Adding the second Hidden Layer\n",
        "classifier.add(Dense(units=6,kernel_initializer='uniform',activation='relu'))"
      ],
      "execution_count": 0,
      "outputs": []
    },
    {
      "cell_type": "code",
      "metadata": {
        "id": "Qxz94-3N0QoH",
        "colab_type": "code",
        "colab": {}
      },
      "source": [
        "#Adding the Output Layer\n",
        "classifier.add(Dense(units=1,kernel_initializer='uniform',activation='sigmoid'))\n"
      ],
      "execution_count": 0,
      "outputs": []
    },
    {
      "cell_type": "code",
      "metadata": {
        "id": "LyUQuT8I1U5o",
        "colab_type": "code",
        "colab": {
          "base_uri": "https://localhost:8080/",
          "height": 156
        },
        "outputId": "1e2327a0-8eec-4ea6-b01f-64a263dcd8b2"
      },
      "source": [
        "classifier.compile(optimizer='adam',loss='binary_crossentropy',metrics=['accuracy'])"
      ],
      "execution_count": 21,
      "outputs": [
        {
          "output_type": "stream",
          "text": [
            "WARNING:tensorflow:From /usr/local/lib/python3.6/dist-packages/keras/optimizers.py:793: The name tf.train.Optimizer is deprecated. Please use tf.compat.v1.train.Optimizer instead.\n",
            "\n",
            "WARNING:tensorflow:From /usr/local/lib/python3.6/dist-packages/keras/backend/tensorflow_backend.py:3657: The name tf.log is deprecated. Please use tf.math.log instead.\n",
            "\n",
            "WARNING:tensorflow:From /usr/local/lib/python3.6/dist-packages/tensorflow_core/python/ops/nn_impl.py:183: where (from tensorflow.python.ops.array_ops) is deprecated and will be removed in a future version.\n",
            "Instructions for updating:\n",
            "Use tf.where in 2.0, which has the same broadcast rule as np.where\n"
          ],
          "name": "stdout"
        }
      ]
    },
    {
      "cell_type": "code",
      "metadata": {
        "id": "b11kc2pg4HLV",
        "colab_type": "code",
        "colab": {
          "base_uri": "https://localhost:8080/",
          "height": 1000
        },
        "outputId": "dca9b4f5-6c97-4d80-c9f5-e8644f7c7387"
      },
      "source": [
        "classifier.fit(X_train,Y_train,batch_size=10,epochs=100)"
      ],
      "execution_count": 22,
      "outputs": [
        {
          "output_type": "stream",
          "text": [
            "WARNING:tensorflow:From /usr/local/lib/python3.6/dist-packages/keras/backend/tensorflow_backend.py:1033: The name tf.assign_add is deprecated. Please use tf.compat.v1.assign_add instead.\n",
            "\n",
            "WARNING:tensorflow:From /usr/local/lib/python3.6/dist-packages/keras/backend/tensorflow_backend.py:1020: The name tf.assign is deprecated. Please use tf.compat.v1.assign instead.\n",
            "\n",
            "WARNING:tensorflow:From /usr/local/lib/python3.6/dist-packages/keras/backend/tensorflow_backend.py:3005: The name tf.Session is deprecated. Please use tf.compat.v1.Session instead.\n",
            "\n",
            "Epoch 1/100\n",
            "WARNING:tensorflow:From /usr/local/lib/python3.6/dist-packages/keras/backend/tensorflow_backend.py:190: The name tf.get_default_session is deprecated. Please use tf.compat.v1.get_default_session instead.\n",
            "\n",
            "WARNING:tensorflow:From /usr/local/lib/python3.6/dist-packages/keras/backend/tensorflow_backend.py:197: The name tf.ConfigProto is deprecated. Please use tf.compat.v1.ConfigProto instead.\n",
            "\n",
            "WARNING:tensorflow:From /usr/local/lib/python3.6/dist-packages/keras/backend/tensorflow_backend.py:207: The name tf.global_variables is deprecated. Please use tf.compat.v1.global_variables instead.\n",
            "\n",
            "WARNING:tensorflow:From /usr/local/lib/python3.6/dist-packages/keras/backend/tensorflow_backend.py:216: The name tf.is_variable_initialized is deprecated. Please use tf.compat.v1.is_variable_initialized instead.\n",
            "\n",
            "WARNING:tensorflow:From /usr/local/lib/python3.6/dist-packages/keras/backend/tensorflow_backend.py:223: The name tf.variables_initializer is deprecated. Please use tf.compat.v1.variables_initializer instead.\n",
            "\n",
            "8000/8000 [==============================] - 12s 2ms/step - loss: 0.4852 - acc: 0.7952\n",
            "Epoch 2/100\n",
            "8000/8000 [==============================] - 3s 315us/step - loss: 0.4274 - acc: 0.7960\n",
            "Epoch 3/100\n",
            "8000/8000 [==============================] - 2s 298us/step - loss: 0.4220 - acc: 0.7960\n",
            "Epoch 4/100\n",
            "8000/8000 [==============================] - 2s 311us/step - loss: 0.4181 - acc: 0.8190\n",
            "Epoch 5/100\n",
            "8000/8000 [==============================] - 3s 313us/step - loss: 0.4158 - acc: 0.8292\n",
            "Epoch 6/100\n",
            "8000/8000 [==============================] - 3s 339us/step - loss: 0.4110 - acc: 0.8325\n",
            "Epoch 7/100\n",
            "8000/8000 [==============================] - 2s 309us/step - loss: 0.4069 - acc: 0.8336\n",
            "Epoch 8/100\n",
            "8000/8000 [==============================] - 3s 325us/step - loss: 0.4046 - acc: 0.8347\n",
            "Epoch 9/100\n",
            "8000/8000 [==============================] - 2s 307us/step - loss: 0.4028 - acc: 0.8340\n",
            "Epoch 10/100\n",
            "8000/8000 [==============================] - 2s 312us/step - loss: 0.4020 - acc: 0.8345\n",
            "Epoch 11/100\n",
            "8000/8000 [==============================] - 2s 305us/step - loss: 0.4003 - acc: 0.8357\n",
            "Epoch 12/100\n",
            "8000/8000 [==============================] - 2s 310us/step - loss: 0.3994 - acc: 0.8360\n",
            "Epoch 13/100\n",
            "8000/8000 [==============================] - 3s 318us/step - loss: 0.3993 - acc: 0.8344\n",
            "Epoch 14/100\n",
            "8000/8000 [==============================] - 3s 320us/step - loss: 0.3985 - acc: 0.8355\n",
            "Epoch 15/100\n",
            "8000/8000 [==============================] - 2s 312us/step - loss: 0.3978 - acc: 0.8332\n",
            "Epoch 16/100\n",
            "8000/8000 [==============================] - 3s 313us/step - loss: 0.3976 - acc: 0.8366\n",
            "Epoch 17/100\n",
            "8000/8000 [==============================] - 3s 316us/step - loss: 0.3975 - acc: 0.8331\n",
            "Epoch 18/100\n",
            "8000/8000 [==============================] - 3s 329us/step - loss: 0.3973 - acc: 0.8350\n",
            "Epoch 19/100\n",
            "8000/8000 [==============================] - 3s 319us/step - loss: 0.3974 - acc: 0.8361\n",
            "Epoch 20/100\n",
            "8000/8000 [==============================] - 2s 307us/step - loss: 0.3960 - acc: 0.8365\n",
            "Epoch 21/100\n",
            "8000/8000 [==============================] - 2s 307us/step - loss: 0.3963 - acc: 0.8369\n",
            "Epoch 22/100\n",
            "8000/8000 [==============================] - 2s 311us/step - loss: 0.3967 - acc: 0.8369\n",
            "Epoch 23/100\n",
            "8000/8000 [==============================] - 2s 308us/step - loss: 0.3962 - acc: 0.8365\n",
            "Epoch 24/100\n",
            "8000/8000 [==============================] - 3s 317us/step - loss: 0.3957 - acc: 0.8352\n",
            "Epoch 25/100\n",
            "8000/8000 [==============================] - 2s 308us/step - loss: 0.3958 - acc: 0.8352\n",
            "Epoch 26/100\n",
            "8000/8000 [==============================] - 3s 313us/step - loss: 0.3957 - acc: 0.8352\n",
            "Epoch 27/100\n",
            "8000/8000 [==============================] - 3s 316us/step - loss: 0.3954 - acc: 0.8369\n",
            "Epoch 28/100\n",
            "8000/8000 [==============================] - 2s 311us/step - loss: 0.3955 - acc: 0.8366\n",
            "Epoch 29/100\n",
            "8000/8000 [==============================] - 3s 327us/step - loss: 0.3948 - acc: 0.8366\n",
            "Epoch 30/100\n",
            "8000/8000 [==============================] - 3s 321us/step - loss: 0.3948 - acc: 0.8367\n",
            "Epoch 31/100\n",
            "8000/8000 [==============================] - 2s 308us/step - loss: 0.3948 - acc: 0.8376\n",
            "Epoch 32/100\n",
            "8000/8000 [==============================] - 3s 324us/step - loss: 0.3947 - acc: 0.8371\n",
            "Epoch 33/100\n",
            "8000/8000 [==============================] - 2s 308us/step - loss: 0.3944 - acc: 0.8370\n",
            "Epoch 34/100\n",
            "8000/8000 [==============================] - 2s 305us/step - loss: 0.3942 - acc: 0.8356\n",
            "Epoch 35/100\n",
            "8000/8000 [==============================] - 2s 310us/step - loss: 0.3942 - acc: 0.8372\n",
            "Epoch 36/100\n",
            "8000/8000 [==============================] - 3s 321us/step - loss: 0.3939 - acc: 0.8371\n",
            "Epoch 37/100\n",
            "8000/8000 [==============================] - 3s 314us/step - loss: 0.3941 - acc: 0.8366\n",
            "Epoch 38/100\n",
            "8000/8000 [==============================] - 3s 318us/step - loss: 0.3941 - acc: 0.8366\n",
            "Epoch 39/100\n",
            "8000/8000 [==============================] - 3s 322us/step - loss: 0.3939 - acc: 0.8355\n",
            "Epoch 40/100\n",
            "8000/8000 [==============================] - 3s 324us/step - loss: 0.3937 - acc: 0.8374\n",
            "Epoch 41/100\n",
            "8000/8000 [==============================] - 2s 304us/step - loss: 0.3934 - acc: 0.8366\n",
            "Epoch 42/100\n",
            "8000/8000 [==============================] - 2s 309us/step - loss: 0.3939 - acc: 0.8376\n",
            "Epoch 43/100\n",
            "8000/8000 [==============================] - 2s 311us/step - loss: 0.3938 - acc: 0.8369\n",
            "Epoch 44/100\n",
            "8000/8000 [==============================] - 2s 308us/step - loss: 0.3935 - acc: 0.8365\n",
            "Epoch 45/100\n",
            "8000/8000 [==============================] - 2s 306us/step - loss: 0.3938 - acc: 0.8374\n",
            "Epoch 46/100\n",
            "8000/8000 [==============================] - 2s 311us/step - loss: 0.3934 - acc: 0.8374\n",
            "Epoch 47/100\n",
            "8000/8000 [==============================] - 2s 307us/step - loss: 0.3937 - acc: 0.8380\n",
            "Epoch 48/100\n",
            "8000/8000 [==============================] - 3s 334us/step - loss: 0.3939 - acc: 0.8372\n",
            "Epoch 49/100\n",
            "8000/8000 [==============================] - 3s 329us/step - loss: 0.3932 - acc: 0.8385\n",
            "Epoch 50/100\n",
            "8000/8000 [==============================] - 3s 331us/step - loss: 0.3936 - acc: 0.8356\n",
            "Epoch 51/100\n",
            "8000/8000 [==============================] - 3s 328us/step - loss: 0.3938 - acc: 0.8380\n",
            "Epoch 52/100\n",
            "8000/8000 [==============================] - 3s 315us/step - loss: 0.3935 - acc: 0.8377\n",
            "Epoch 53/100\n",
            "8000/8000 [==============================] - 3s 336us/step - loss: 0.3937 - acc: 0.8357\n",
            "Epoch 54/100\n",
            "8000/8000 [==============================] - 2s 305us/step - loss: 0.3932 - acc: 0.8374\n",
            "Epoch 55/100\n",
            "8000/8000 [==============================] - 2s 311us/step - loss: 0.3928 - acc: 0.8366\n",
            "Epoch 56/100\n",
            "8000/8000 [==============================] - 3s 322us/step - loss: 0.3937 - acc: 0.8362\n",
            "Epoch 57/100\n",
            "8000/8000 [==============================] - 2s 311us/step - loss: 0.3930 - acc: 0.8367\n",
            "Epoch 58/100\n",
            "8000/8000 [==============================] - 2s 307us/step - loss: 0.3935 - acc: 0.8375\n",
            "Epoch 59/100\n",
            "8000/8000 [==============================] - 2s 307us/step - loss: 0.3932 - acc: 0.8384\n",
            "Epoch 60/100\n",
            "8000/8000 [==============================] - 2s 308us/step - loss: 0.3931 - acc: 0.8376\n",
            "Epoch 61/100\n",
            "8000/8000 [==============================] - 3s 315us/step - loss: 0.3932 - acc: 0.8361\n",
            "Epoch 62/100\n",
            "8000/8000 [==============================] - 2s 307us/step - loss: 0.3930 - acc: 0.8365\n",
            "Epoch 63/100\n",
            "8000/8000 [==============================] - 3s 314us/step - loss: 0.3933 - acc: 0.8371\n",
            "Epoch 64/100\n",
            "8000/8000 [==============================] - 3s 318us/step - loss: 0.3930 - acc: 0.8365\n",
            "Epoch 65/100\n",
            "8000/8000 [==============================] - 3s 314us/step - loss: 0.3926 - acc: 0.8375\n",
            "Epoch 66/100\n",
            "8000/8000 [==============================] - 2s 305us/step - loss: 0.3934 - acc: 0.8369\n",
            "Epoch 67/100\n",
            "8000/8000 [==============================] - 3s 314us/step - loss: 0.3930 - acc: 0.8375\n",
            "Epoch 68/100\n",
            "8000/8000 [==============================] - 2s 308us/step - loss: 0.3930 - acc: 0.8386\n",
            "Epoch 69/100\n",
            "8000/8000 [==============================] - 2s 312us/step - loss: 0.3930 - acc: 0.8380\n",
            "Epoch 70/100\n",
            "8000/8000 [==============================] - 2s 312us/step - loss: 0.3926 - acc: 0.8391\n",
            "Epoch 71/100\n",
            "8000/8000 [==============================] - 3s 314us/step - loss: 0.3925 - acc: 0.8362\n",
            "Epoch 72/100\n",
            "8000/8000 [==============================] - 3s 314us/step - loss: 0.3930 - acc: 0.8391\n",
            "Epoch 73/100\n",
            "8000/8000 [==============================] - 2s 312us/step - loss: 0.3930 - acc: 0.8382\n",
            "Epoch 74/100\n",
            "8000/8000 [==============================] - 2s 312us/step - loss: 0.3929 - acc: 0.8360\n",
            "Epoch 75/100\n",
            "8000/8000 [==============================] - 2s 312us/step - loss: 0.3923 - acc: 0.8367\n",
            "Epoch 76/100\n",
            "8000/8000 [==============================] - 3s 315us/step - loss: 0.3933 - acc: 0.8380\n",
            "Epoch 77/100\n",
            "8000/8000 [==============================] - 3s 333us/step - loss: 0.3923 - acc: 0.8365\n",
            "Epoch 78/100\n",
            "8000/8000 [==============================] - 3s 317us/step - loss: 0.3926 - acc: 0.8387\n",
            "Epoch 79/100\n",
            "8000/8000 [==============================] - 2s 307us/step - loss: 0.3928 - acc: 0.8377\n",
            "Epoch 80/100\n",
            "8000/8000 [==============================] - 3s 327us/step - loss: 0.3926 - acc: 0.8376\n",
            "Epoch 81/100\n",
            "8000/8000 [==============================] - 2s 310us/step - loss: 0.3922 - acc: 0.8374\n",
            "Epoch 82/100\n",
            "8000/8000 [==============================] - 2s 310us/step - loss: 0.3930 - acc: 0.8385\n",
            "Epoch 83/100\n",
            "8000/8000 [==============================] - 2s 306us/step - loss: 0.3924 - acc: 0.8377\n",
            "Epoch 84/100\n",
            "8000/8000 [==============================] - 2s 312us/step - loss: 0.3926 - acc: 0.8364\n",
            "Epoch 85/100\n",
            "8000/8000 [==============================] - 2s 307us/step - loss: 0.3924 - acc: 0.8376\n",
            "Epoch 86/100\n",
            "8000/8000 [==============================] - 3s 313us/step - loss: 0.3928 - acc: 0.8365\n",
            "Epoch 87/100\n",
            "8000/8000 [==============================] - 3s 314us/step - loss: 0.3926 - acc: 0.8385\n",
            "Epoch 88/100\n",
            "8000/8000 [==============================] - 2s 310us/step - loss: 0.3921 - acc: 0.8372\n",
            "Epoch 89/100\n",
            "8000/8000 [==============================] - 2s 307us/step - loss: 0.3923 - acc: 0.8380\n",
            "Epoch 90/100\n",
            "8000/8000 [==============================] - 2s 305us/step - loss: 0.3920 - acc: 0.8386\n",
            "Epoch 91/100\n",
            "8000/8000 [==============================] - 2s 310us/step - loss: 0.3920 - acc: 0.8360\n",
            "Epoch 92/100\n",
            "8000/8000 [==============================] - 2s 310us/step - loss: 0.3921 - acc: 0.8389\n",
            "Epoch 93/100\n",
            "8000/8000 [==============================] - 3s 314us/step - loss: 0.3916 - acc: 0.8371\n",
            "Epoch 94/100\n",
            "8000/8000 [==============================] - 3s 315us/step - loss: 0.3917 - acc: 0.8380\n",
            "Epoch 95/100\n",
            "8000/8000 [==============================] - 2s 311us/step - loss: 0.3916 - acc: 0.8382\n",
            "Epoch 96/100\n",
            "8000/8000 [==============================] - 2s 312us/step - loss: 0.3912 - acc: 0.8385\n",
            "Epoch 97/100\n",
            "8000/8000 [==============================] - 2s 303us/step - loss: 0.3921 - acc: 0.8386\n",
            "Epoch 98/100\n",
            "8000/8000 [==============================] - 2s 309us/step - loss: 0.3907 - acc: 0.8379\n",
            "Epoch 99/100\n",
            "8000/8000 [==============================] - 2s 310us/step - loss: 0.3896 - acc: 0.8396\n",
            "Epoch 100/100\n",
            "8000/8000 [==============================] - 3s 314us/step - loss: 0.3860 - acc: 0.8394\n"
          ],
          "name": "stdout"
        },
        {
          "output_type": "execute_result",
          "data": {
            "text/plain": [
              "<keras.callbacks.History at 0x7fbeaf605438>"
            ]
          },
          "metadata": {
            "tags": []
          },
          "execution_count": 22
        }
      ]
    },
    {
      "cell_type": "code",
      "metadata": {
        "id": "stQyq7ag490b",
        "colab_type": "code",
        "colab": {}
      },
      "source": [
        "y_pred = classifier.predict(X_test)\n",
        "y_pred = (y_pred > 0.5)\n"
      ],
      "execution_count": 0,
      "outputs": []
    },
    {
      "cell_type": "code",
      "metadata": {
        "id": "ngAGrgYx6K5k",
        "colab_type": "code",
        "colab": {
          "base_uri": "https://localhost:8080/",
          "height": 136
        },
        "outputId": "16a037ea-bc00-4bef-fa27-712dc2c6f5a3"
      },
      "source": [
        "y_pred"
      ],
      "execution_count": 24,
      "outputs": [
        {
          "output_type": "execute_result",
          "data": {
            "text/plain": [
              "array([[False],\n",
              "       [False],\n",
              "       [False],\n",
              "       ...,\n",
              "       [False],\n",
              "       [False],\n",
              "       [False]])"
            ]
          },
          "metadata": {
            "tags": []
          },
          "execution_count": 24
        }
      ]
    },
    {
      "cell_type": "code",
      "metadata": {
        "id": "YAC8VO_46Mrl",
        "colab_type": "code",
        "colab": {}
      },
      "source": [
        "#Using single observation to check the result\n",
        "new_prediction=classifier.predict(sc.transform(np.array([[0.0,0,600,1,40,3,6000,2,1,1,5000]])))\n",
        "new_prediction=(new_prediction>0.5)"
      ],
      "execution_count": 0,
      "outputs": []
    },
    {
      "cell_type": "code",
      "metadata": {
        "id": "ehrrRPil6r3n",
        "colab_type": "code",
        "colab": {
          "base_uri": "https://localhost:8080/",
          "height": 34
        },
        "outputId": "9c070f47-feb4-49d0-ed5a-342d4720be9a"
      },
      "source": [
        "new_prediction"
      ],
      "execution_count": 26,
      "outputs": [
        {
          "output_type": "execute_result",
          "data": {
            "text/plain": [
              "array([[False]])"
            ]
          },
          "metadata": {
            "tags": []
          },
          "execution_count": 26
        }
      ]
    }
  ]
}